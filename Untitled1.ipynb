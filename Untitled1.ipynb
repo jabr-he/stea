{
 "cells": [
  {
   "cell_type": "code",
   "execution_count": 12,
   "id": "20d09a1c-cfbf-4e0a-b44d-bda0878c0f5b",
   "metadata": {
    "editable": true,
    "slideshow": {
     "slide_type": ""
    },
    "tags": []
   },
   "outputs": [
    {
     "data": {
      "text/plain": [
       "'Notiz:\\n\\npd contains\\n\\nberufsbezeichnungen nicht löschen nach zählen --> \\ngucken, wie oft unterschiedliche berufsbezeichnungen zusammen vorkommen\\n\\n'"
      ]
     },
     "execution_count": 12,
     "metadata": {},
     "output_type": "execute_result"
    }
   ],
   "source": [
    "\"\"\"Notiz:\n",
    "\n",
    "pd contains\n",
    "\n",
    "berufsbezeichnungen nicht löschen nach zählen --> \n",
    "gucken, wie oft unterschiedliche berufsbezeichnungen zusammen vorkommen\n",
    "\n",
    "\"\"\""
   ]
  },
  {
   "cell_type": "code",
   "execution_count": null,
   "id": "53b1ce47-1759-4607-b262-c18be345b028",
   "metadata": {},
   "outputs": [],
   "source": []
  }
 ],
 "metadata": {
  "kernelspec": {
   "display_name": "Python [conda env:base] *",
   "language": "python",
   "name": "conda-base-py"
  },
  "language_info": {
   "codemirror_mode": {
    "name": "ipython",
    "version": 3
   },
   "file_extension": ".py",
   "mimetype": "text/x-python",
   "name": "python",
   "nbconvert_exporter": "python",
   "pygments_lexer": "ipython3",
   "version": "3.12.7"
  }
 },
 "nbformat": 4,
 "nbformat_minor": 5
}
