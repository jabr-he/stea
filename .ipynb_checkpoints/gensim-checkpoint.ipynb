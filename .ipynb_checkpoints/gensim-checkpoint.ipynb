{
 "cells": [
  {
   "cell_type": "code",
   "execution_count": 85,
   "id": "b9fe1d07-eaaa-4b03-839c-26436ff3280c",
   "metadata": {},
   "outputs": [],
   "source": [
    "import json\n",
    "import re\n",
    "import numpy as np\n",
    "import pandas as pd\n",
    "from pprint import pprint\n",
    "import gensim\n",
    "import gensim.corpora as corpora\n",
    "from gensim.utils import simple_preprocess\n",
    "from gensim.models import CoherenceModel\n",
    "import spacy\n",
    "import pyLDAvis\n",
    "import pyLDAvis.gensim_models\n",
    "import matplotlib.pyplot as plt\n",
    "%matplotlib inline\n",
    "import re"
   ]
  },
  {
   "cell_type": "code",
   "execution_count": 108,
   "id": "149abb60-98bf-4676-87b9-8ccb4eac6cb4",
   "metadata": {},
   "outputs": [],
   "source": [
    "read = [['2020-08-01', 'abc Pflegeheim Altenpfleger Pflegeheim jhk'], ['2024-06-07', 'das the pflegeheim Altenpflegefachkraft Pflegeheim zupa cfg'], ['2025-01-03', 'abc Altenpflegerin pflegeheim abc'], [\"2024-01-01\", \"abcd Pflegefachperson ambulant Pflegedienst123 cdg\"], ['04.07.2025', '123 die Krankenpflegerin innere krankenhaus abc'], [\"01.01.2025 17:00:43\", \"abcd ambulanter pflegedienst Pflegefachmann 123\"], [\"12/31/2023\", \"krankenhaus innere Krankenschwester 12acde\"], [\"2023-02-01\", \"abcd ambulante Pflegedienst Pflegefachfrau 74\"], [\"2024-02-02\", \"Krankenhaus innere Krankenpfleger abcd\"], ['2024-03-02', 'a Kinderkrankenpfleger b']]\n",
    "readpro = []\n",
    "for i in range(len(read)):\n",
    "    readpro.append(read[i][1])"
   ]
  },
  {
   "cell_type": "code",
   "execution_count": 110,
   "id": "c35f572d-c7d1-4f0d-bbff-bc791883934b",
   "metadata": {},
   "outputs": [],
   "source": [
    "stop_words = stopwords.words('german')\n",
    "# SteA laden aus json\n",
    "# LDA drüberlaufen lassen (mallet)"
   ]
  },
  {
   "cell_type": "code",
   "execution_count": 112,
   "id": "7ebc5d24-0395-45a8-a732-1c00da9fe030",
   "metadata": {},
   "outputs": [
    {
     "data": {
      "text/plain": [
       "'with open(\\'Pflege_2016.json\\', \\'r\\') as file:\\n    output = json.load(file)\\nreadpro = [[value] for value in output[\"full_text\"].values()]'"
      ]
     },
     "execution_count": 112,
     "metadata": {},
     "output_type": "execute_result"
    }
   ],
   "source": [
    "\"\"\"with open('Pflege_2016.json', 'r') as file:\n",
    "    output = json.load(file)\n",
    "readpro = [[value] for value in output[\"full_text\"].values()]\"\"\""
   ]
  },
  {
   "cell_type": "code",
   "execution_count": 130,
   "id": "68dc59e4-a647-4073-a827-1e94bb443d95",
   "metadata": {},
   "outputs": [
    {
     "name": "stdout",
     "output_type": "stream",
     "text": [
      "['abc', 'altenpfleger', 'pflegeheim', 'jhk']\n"
     ]
    }
   ],
   "source": [
    "def tokenize(text):\n",
    "    # Remove punctuation and non-alphabetic characters\n",
    "    text = re.sub(r'[^a-zA-Z\\s]', '', text)\n",
    "    # Convert to lowercase\n",
    "    text = text.lower()\n",
    "    # Split into words\n",
    "    tokens = text.split()\n",
    "    return tokens\n",
    "prepro = []\n",
    "for value in readpro:\n",
    "    add = tokenize(value)\n",
    "    prepro.append(add)\n",
    "# Build the bigram and trigram models\n",
    "bigram = gensim.models.Phrases(prepro, min_count=2, threshold=5) # higher threshold fewer phrases.\n",
    "trigram = gensim.models.Phrases(bigram[prepro], threshold=100)  \n",
    "\n",
    "# Faster way to get a sentence clubbed as a trigram/bigram\n",
    "bigram_mod = gensim.models.phrases.Phraser(bigram)\n",
    "trigram_mod = gensim.models.phrases.Phraser(trigram)\n",
    "# See trigram example\n",
    "print(trigram_mod[bigram_mod[data_words[0]]])"
   ]
  },
  {
   "cell_type": "code",
   "execution_count": 126,
   "id": "341aaddc-8af2-405a-90e3-aaa2577486f2",
   "metadata": {},
   "outputs": [],
   "source": [
    "# Define functions for stopwords, bigrams, trigrams and lemmatization\n",
    "def remove_stopwords(texts):\n",
    "    return [[word for word in simple_preprocess(str(doc)) if word not in stop_words] for doc in texts]\n",
    "\n",
    "def make_bigrams(texts):\n",
    "    return [bigram_mod[doc] for doc in texts]\n",
    "\n",
    "def make_trigrams(texts):\n",
    "    return [trigram_mod[bigram_mod[doc]] for doc in texts]\n",
    "\n",
    "def lemmatization(texts, allowed_postags=['NOUN', 'ADJ', 'VERB', 'ADV']):\n",
    "    \"\"\"https://spacy.io/api/annotation\"\"\"\n",
    "    texts_out = []\n",
    "    for sent in texts:\n",
    "        doc = nlp(\" \".join(sent)) \n",
    "        texts_out.append([token.lemma_ for token in doc if token.pos_ in allowed_postags])\n",
    "    return texts_out"
   ]
  },
  {
   "cell_type": "code",
   "execution_count": 138,
   "id": "3883cd3b-8691-4302-ae15-d253ee9cb854",
   "metadata": {},
   "outputs": [
    {
     "name": "stdout",
     "output_type": "stream",
     "text": [
      "[['pflegeheim', 'altenpfleg', 'Pflegeheim', 'jhk']]\n"
     ]
    }
   ],
   "source": [
    "# Remove Stop Words\n",
    "data_words_nostops = remove_stopwords(prepro)\n",
    "\n",
    "# Form Bigrams\n",
    "data_words_bigrams = make_bigrams(data_words_nostops)\n",
    "\n",
    "# Initialize spacy 'en' model, keeping only tagger component (for efficiency)\n",
    "# python3 -m spacy download en\n",
    "nlp = spacy.load('de_core_news_sm', disable=['parser', 'ner'])\n",
    "\n",
    "# Do lemmatization keeping only noun, adj, vb, adv\n",
    "data_lemmatized = lemmatization(data_words_bigrams, allowed_postags=['NOUN', 'ADJ', 'VERB', 'ADV'])\n",
    "\n",
    "print(data_lemmatized[:1])"
   ]
  },
  {
   "cell_type": "code",
   "execution_count": 140,
   "id": "966223fb-535f-4a35-98d7-a70167e7adfe",
   "metadata": {},
   "outputs": [
    {
     "name": "stdout",
     "output_type": "stream",
     "text": [
      "[[(0, 1), (1, 1), (2, 1), (3, 1)]]\n"
     ]
    }
   ],
   "source": [
    "# Create Dictionary\n",
    "id2word = corpora.Dictionary(data_lemmatized)\n",
    "\n",
    "# Create Corpus\n",
    "texts = data_lemmatized\n",
    "\n",
    "# Term Document Frequency\n",
    "corpus = [id2word.doc2bow(text) for text in texts]\n",
    "\n",
    "# View\n",
    "print(corpus[:1])"
   ]
  },
  {
   "cell_type": "code",
   "execution_count": 152,
   "id": "5203d8b6-d5d8-4e61-b2ce-68a3f343abb7",
   "metadata": {},
   "outputs": [
    {
     "name": "stdout",
     "output_type": "stream",
     "text": [
      "[(0,\n",
      "  '0.199*\"innerer\" + 0.119*\"krankenhaus\" + 0.119*\"acde\" + 0.119*\"Krankenhaus\" '\n",
      "  '+ 0.118*\"Abcd\" + 0.118*\"cdg\" + 0.044*\"Altenpflegerin\" + 0.041*\"pflegeheim\" '\n",
      "  '+ 0.041*\"jhk\" + 0.041*\"Pflegeheim\"'),\n",
      " (1,\n",
      "  '0.142*\"altenpfleg\" + 0.142*\"Pflegeheim\" + 0.142*\"jhk\" + 0.142*\"pflegeheim\" '\n",
      "  '+ 0.138*\"Altenpflegerin\" + 0.050*\"cdg\" + 0.050*\"Abcd\" + 0.050*\"innerer\" + '\n",
      "  '0.049*\"Krankenhaus\" + 0.049*\"acde\"')]\n",
      "\n",
      "Perplexity:  -3.07256592825676\n",
      "\n",
      "Coherence Score:  0.4471578578396118\n"
     ]
    },
    {
     "name": "stderr",
     "output_type": "stream",
     "text": [
      "/opt/anaconda3/lib/python3.12/site-packages/joblib/externals/loky/backend/fork_exec.py:38: DeprecationWarning: This process (pid=15856) is multi-threaded, use of fork() may lead to deadlocks in the child.\n",
      "  pid = os.fork()\n",
      "/opt/anaconda3/lib/python3.12/site-packages/joblib/externals/loky/backend/fork_exec.py:38: DeprecationWarning: This process (pid=15856) is multi-threaded, use of fork() may lead to deadlocks in the child.\n",
      "  pid = os.fork()\n",
      "/opt/anaconda3/lib/python3.12/site-packages/joblib/externals/loky/backend/fork_exec.py:38: DeprecationWarning: This process (pid=15856) is multi-threaded, use of fork() may lead to deadlocks in the child.\n",
      "  pid = os.fork()\n",
      "/opt/anaconda3/lib/python3.12/site-packages/joblib/externals/loky/backend/fork_exec.py:38: DeprecationWarning: This process (pid=15856) is multi-threaded, use of fork() may lead to deadlocks in the child.\n",
      "  pid = os.fork()\n",
      "/opt/anaconda3/lib/python3.12/site-packages/joblib/externals/loky/backend/fork_exec.py:38: DeprecationWarning: This process (pid=15856) is multi-threaded, use of fork() may lead to deadlocks in the child.\n",
      "  pid = os.fork()\n",
      "/opt/anaconda3/lib/python3.12/site-packages/joblib/externals/loky/backend/fork_exec.py:38: DeprecationWarning: This process (pid=15856) is multi-threaded, use of fork() may lead to deadlocks in the child.\n",
      "  pid = os.fork()\n",
      "/opt/anaconda3/lib/python3.12/site-packages/joblib/externals/loky/backend/fork_exec.py:38: DeprecationWarning: This process (pid=15856) is multi-threaded, use of fork() may lead to deadlocks in the child.\n",
      "  pid = os.fork()\n",
      "/opt/anaconda3/lib/python3.12/site-packages/joblib/externals/loky/backend/fork_exec.py:38: DeprecationWarning: This process (pid=15856) is multi-threaded, use of fork() may lead to deadlocks in the child.\n",
      "  pid = os.fork()\n",
      "/opt/anaconda3/lib/python3.12/site-packages/joblib/externals/loky/backend/fork_exec.py:38: DeprecationWarning: This process (pid=15856) is multi-threaded, use of fork() may lead to deadlocks in the child.\n",
      "  pid = os.fork()\n"
     ]
    },
    {
     "data": {
      "text/html": [
       "\n",
       "<link rel=\"stylesheet\" type=\"text/css\" href=\"https://cdn.jsdelivr.net/gh/bmabey/pyLDAvis@3.4.0/pyLDAvis/js/ldavis.v1.0.0.css\">\n",
       "\n",
       "\n",
       "<div id=\"ldavis_el1585644072415526055637063\" style=\"background-color:white;\"></div>\n",
       "<script type=\"text/javascript\">\n",
       "\n",
       "var ldavis_el1585644072415526055637063_data = {\"mdsDat\": {\"x\": [0.06626727361001887, -0.06626727361001887], \"y\": [0.0, 0.0], \"topics\": [1, 2], \"cluster\": [1, 1], \"Freq\": [56.8768221349478, 43.1231778650522]}, \"tinfo\": {\"Term\": [\"altenpfleg\", \"Pflegeheim\", \"jhk\", \"pflegeheim\", \"Altenpflegerin\", \"innerer\", \"krankenhaus\", \"acde\", \"Krankenhaus\", \"Abcd\", \"cdg\", \"innerer\", \"krankenhaus\", \"acde\", \"Krankenhaus\", \"Abcd\", \"cdg\", \"Altenpflegerin\", \"pflegeheim\", \"jhk\", \"Pflegeheim\", \"altenpfleg\", \"altenpfleg\", \"Pflegeheim\", \"jhk\", \"pflegeheim\", \"Altenpflegerin\", \"cdg\", \"Abcd\", \"Krankenhaus\", \"acde\", \"krankenhaus\", \"innerer\"], \"Freq\": [1.0, 1.0, 1.0, 1.0, 1.0, 1.0, 1.0, 1.0, 1.0, 1.0, 1.0, 1.3559087250546464, 0.8131639682650094, 0.8121421005075258, 0.8117481512904456, 0.8083639612302052, 0.8076791903308633, 0.3002975669858865, 0.2791382173888024, 0.2789779323839958, 0.27894086139145013, 0.27885825257472796, 0.7326590387298229, 0.7325847815582531, 0.7325514699298854, 0.7324075050915462, 0.7133971293979406, 0.2575556018720312, 0.2569404548458656, 0.253899997654802, 0.2535460616033949, 0.25262798695676025, 0.2566110976869173], \"Total\": [1.0, 1.0, 1.0, 1.0, 1.0, 1.0, 1.0, 1.0, 1.0, 1.0, 1.0, 1.6125198227415638, 1.0657919552217696, 1.0656881621109207, 1.0656481489452476, 1.0653044160760707, 1.0652347922028946, 1.0136946963838271, 1.0115457224803486, 1.0115294023138812, 1.0115256429497033, 1.0115172913045507, 1.0115172913045507, 1.0115256429497033, 1.0115294023138812, 1.0115457224803486, 1.0136946963838271, 1.0652347922028946, 1.0653044160760707, 1.0656481489452476, 1.0656881621109207, 1.0657919552217696, 1.6125198227415638], \"Category\": [\"Default\", \"Default\", \"Default\", \"Default\", \"Default\", \"Default\", \"Default\", \"Default\", \"Default\", \"Default\", \"Default\", \"Topic1\", \"Topic1\", \"Topic1\", \"Topic1\", \"Topic1\", \"Topic1\", \"Topic1\", \"Topic1\", \"Topic1\", \"Topic1\", \"Topic1\", \"Topic2\", \"Topic2\", \"Topic2\", \"Topic2\", \"Topic2\", \"Topic2\", \"Topic2\", \"Topic2\", \"Topic2\", \"Topic2\", \"Topic2\"], \"logprob\": [11.0, 10.0, 9.0, 8.0, 7.0, 6.0, 5.0, 4.0, 3.0, 2.0, 1.0, -1.6162, -2.1274, -2.1287, -2.1292, -2.1334, -2.1342, -3.1236, -3.1967, -3.1972, -3.1974, -3.1977, -1.9549, -1.955, -1.955, -1.9552, -1.9815, -3.0003, -3.0027, -3.0146, -3.016, -3.0196, -3.004], \"loglift\": [11.0, 10.0, 9.0, 8.0, 7.0, 6.0, 5.0, 4.0, 3.0, 2.0, 1.0, 0.391, 0.2937, 0.2926, 0.2921, 0.2883, 0.2875, -0.6523, -0.7232, -0.7238, -0.7239, -0.7242, 0.5186, 0.5185, 0.5184, 0.5182, 0.4898, -0.5786, -0.5811, -0.5933, -0.5947, -0.5984, -0.9969]}, \"token.table\": {\"Topic\": [1, 2, 1, 2, 1, 2, 1, 1, 2, 1, 2], \"Freq\": [0.93869882158509, 0.9864903146552108, 0.9383960371814801, 0.988605683869671, 0.938360803426018, 0.9886138463439444, 0.9387601750521218, 0.6201474151801907, 0.988602009701836, 0.938269420312823, 0.9885860597066853], \"Term\": [\"Abcd\", \"Altenpflegerin\", \"Krankenhaus\", \"Pflegeheim\", \"acde\", \"altenpfleg\", \"cdg\", \"innerer\", \"jhk\", \"krankenhaus\", \"pflegeheim\"]}, \"R\": 11, \"lambda.step\": 0.01, \"plot.opts\": {\"xlab\": \"PC1\", \"ylab\": \"PC2\"}, \"topic.order\": [1, 2]};\n",
       "\n",
       "function LDAvis_load_lib(url, callback){\n",
       "  var s = document.createElement('script');\n",
       "  s.src = url;\n",
       "  s.async = true;\n",
       "  s.onreadystatechange = s.onload = callback;\n",
       "  s.onerror = function(){console.warn(\"failed to load library \" + url);};\n",
       "  document.getElementsByTagName(\"head\")[0].appendChild(s);\n",
       "}\n",
       "\n",
       "if(typeof(LDAvis) !== \"undefined\"){\n",
       "   // already loaded: just create the visualization\n",
       "   !function(LDAvis){\n",
       "       new LDAvis(\"#\" + \"ldavis_el1585644072415526055637063\", ldavis_el1585644072415526055637063_data);\n",
       "   }(LDAvis);\n",
       "}else if(typeof define === \"function\" && define.amd){\n",
       "   // require.js is available: use it to load d3/LDAvis\n",
       "   require.config({paths: {d3: \"https://d3js.org/d3.v5\"}});\n",
       "   require([\"d3\"], function(d3){\n",
       "      window.d3 = d3;\n",
       "      LDAvis_load_lib(\"https://cdn.jsdelivr.net/gh/bmabey/pyLDAvis@3.4.0/pyLDAvis/js/ldavis.v3.0.0.js\", function(){\n",
       "        new LDAvis(\"#\" + \"ldavis_el1585644072415526055637063\", ldavis_el1585644072415526055637063_data);\n",
       "      });\n",
       "    });\n",
       "}else{\n",
       "    // require.js not available: dynamically load d3 & LDAvis\n",
       "    LDAvis_load_lib(\"https://d3js.org/d3.v5.js\", function(){\n",
       "         LDAvis_load_lib(\"https://cdn.jsdelivr.net/gh/bmabey/pyLDAvis@3.4.0/pyLDAvis/js/ldavis.v3.0.0.js\", function(){\n",
       "                 new LDAvis(\"#\" + \"ldavis_el1585644072415526055637063\", ldavis_el1585644072415526055637063_data);\n",
       "            })\n",
       "         });\n",
       "}\n",
       "</script>"
      ],
      "text/plain": [
       "PreparedData(topic_coordinates=              x    y  topics  cluster       Freq\n",
       "topic                                           \n",
       "0      0.066267  0.0       1        1  56.876822\n",
       "1     -0.066267  0.0       2        1  43.123178, topic_info=              Term      Freq     Total Category  logprob  loglift\n",
       "1       altenpfleg  1.000000  1.000000  Default  11.0000  11.0000\n",
       "0       Pflegeheim  1.000000  1.000000  Default  10.0000  10.0000\n",
       "2              jhk  1.000000  1.000000  Default   9.0000   9.0000\n",
       "3       pflegeheim  1.000000  1.000000  Default   8.0000   8.0000\n",
       "4   Altenpflegerin  1.000000  1.000000  Default   7.0000   7.0000\n",
       "8          innerer  1.000000  1.000000  Default   6.0000   6.0000\n",
       "10     krankenhaus  1.000000  1.000000  Default   5.0000   5.0000\n",
       "9             acde  1.000000  1.000000  Default   4.0000   4.0000\n",
       "7      Krankenhaus  1.000000  1.000000  Default   3.0000   3.0000\n",
       "5             Abcd  1.000000  1.000000  Default   2.0000   2.0000\n",
       "6              cdg  1.000000  1.000000  Default   1.0000   1.0000\n",
       "8          innerer  1.355909  1.612520   Topic1  -1.6162   0.3910\n",
       "10     krankenhaus  0.813164  1.065792   Topic1  -2.1274   0.2937\n",
       "9             acde  0.812142  1.065688   Topic1  -2.1287   0.2926\n",
       "7      Krankenhaus  0.811748  1.065648   Topic1  -2.1292   0.2921\n",
       "5             Abcd  0.808364  1.065304   Topic1  -2.1334   0.2883\n",
       "6              cdg  0.807679  1.065235   Topic1  -2.1342   0.2875\n",
       "4   Altenpflegerin  0.300298  1.013695   Topic1  -3.1236  -0.6523\n",
       "3       pflegeheim  0.279138  1.011546   Topic1  -3.1967  -0.7232\n",
       "2              jhk  0.278978  1.011529   Topic1  -3.1972  -0.7238\n",
       "0       Pflegeheim  0.278941  1.011526   Topic1  -3.1974  -0.7239\n",
       "1       altenpfleg  0.278858  1.011517   Topic1  -3.1977  -0.7242\n",
       "1       altenpfleg  0.732659  1.011517   Topic2  -1.9549   0.5186\n",
       "0       Pflegeheim  0.732585  1.011526   Topic2  -1.9550   0.5185\n",
       "2              jhk  0.732551  1.011529   Topic2  -1.9550   0.5184\n",
       "3       pflegeheim  0.732408  1.011546   Topic2  -1.9552   0.5182\n",
       "4   Altenpflegerin  0.713397  1.013695   Topic2  -1.9815   0.4898\n",
       "6              cdg  0.257556  1.065235   Topic2  -3.0003  -0.5786\n",
       "5             Abcd  0.256940  1.065304   Topic2  -3.0027  -0.5811\n",
       "7      Krankenhaus  0.253900  1.065648   Topic2  -3.0146  -0.5933\n",
       "9             acde  0.253546  1.065688   Topic2  -3.0160  -0.5947\n",
       "10     krankenhaus  0.252628  1.065792   Topic2  -3.0196  -0.5984\n",
       "8          innerer  0.256611  1.612520   Topic2  -3.0040  -0.9969, token_table=      Topic      Freq            Term\n",
       "term                                 \n",
       "5         1  0.938699            Abcd\n",
       "4         2  0.986490  Altenpflegerin\n",
       "7         1  0.938396     Krankenhaus\n",
       "0         2  0.988606      Pflegeheim\n",
       "9         1  0.938361            acde\n",
       "1         2  0.988614      altenpfleg\n",
       "6         1  0.938760             cdg\n",
       "8         1  0.620147         innerer\n",
       "2         2  0.988602             jhk\n",
       "10        1  0.938269     krankenhaus\n",
       "3         2  0.988586      pflegeheim, R=11, lambda_step=0.01, plot_opts={'xlab': 'PC1', 'ylab': 'PC2'}, topic_order=[1, 2])"
      ]
     },
     "execution_count": 152,
     "metadata": {},
     "output_type": "execute_result"
    }
   ],
   "source": [
    "\"\"\"We have everything required to train the LDA model. In addition to the corpus and dictionary, you need to provide the number of topics as well.\n",
    "\n",
    "Apart from that, alpha and eta are hyperparameters that affect sparsity of the topics. According to the Gensim docs, both defaults to 1.0/num_topics prior.\n",
    "\n",
    "chunksize is the number of documents to be used in each training chunk. update_every determines how often the model parameters should be updated and passes is the total number of training passes.\"\"\"\n",
    "lda_model = gensim.models.ldamodel.LdaModel(corpus=corpus,\n",
    "                                           id2word=id2word,\n",
    "                                           num_topics=2, \n",
    "                                           random_state=100,\n",
    "                                           update_every=1,\n",
    "                                           chunksize=100,\n",
    "                                           passes=10,\n",
    "                                           alpha='auto',\n",
    "                                           per_word_topics=True)\n",
    "# Print the Keyword in the 10 topics\n",
    "pprint(lda_model.print_topics())\n",
    "doc_lda = lda_model[corpus]\n",
    "# Compute Perplexity\n",
    "print('\\nPerplexity: ', lda_model.log_perplexity(corpus))  # a measure of how good the model is. lower the better.\n",
    "\n",
    "# Compute Coherence Score\n",
    "coherence_model_lda = CoherenceModel(model=lda_model, texts=data_lemmatized, dictionary=id2word, coherence='c_v')\n",
    "coherence_lda = coherence_model_lda.get_coherence()\n",
    "print('\\nCoherence Score: ', coherence_lda)\n",
    "# Visualize the topics\n",
    "pyLDAvis.enable_notebook()\n",
    "vis = pyLDAvis.gensim_models.prepare(lda_model, corpus, id2word)\n",
    "vis"
   ]
  },
  {
   "cell_type": "code",
   "execution_count": null,
   "id": "777e6164-4519-45e1-8886-021b5d45832b",
   "metadata": {},
   "outputs": [],
   "source": []
  }
 ],
 "metadata": {
  "kernelspec": {
   "display_name": "Python [conda env:base] *",
   "language": "python",
   "name": "conda-base-py"
  },
  "language_info": {
   "codemirror_mode": {
    "name": "ipython",
    "version": 3
   },
   "file_extension": ".py",
   "mimetype": "text/x-python",
   "name": "python",
   "nbconvert_exporter": "python",
   "pygments_lexer": "ipython3",
   "version": "3.12.2"
  }
 },
 "nbformat": 4,
 "nbformat_minor": 5
}
