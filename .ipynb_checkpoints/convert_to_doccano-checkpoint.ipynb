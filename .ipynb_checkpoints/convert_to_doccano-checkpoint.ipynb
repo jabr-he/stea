{
 "cells": [
  {
   "cell_type": "code",
   "execution_count": 17,
   "id": "8f1bcc12-7e6d-4502-a1f5-88d4bffd658c",
   "metadata": {},
   "outputs": [],
   "source": [
    "import json\n",
    "import pandas as pd\n",
    "import random"
   ]
  },
  {
   "cell_type": "code",
   "execution_count": 18,
   "id": "512121ef-2393-4ecf-904c-9f8783b0d4fd",
   "metadata": {},
   "outputs": [],
   "source": [
    "years = ['2016', '2017']\n",
    "path = \"/Users/jan/Documents/Promotion/BIBB GW/hdd/Pflege/\"\n",
    "path_doccano = \"/Users/jan/Documents/Promotion/BIBB GW/hdd/To_Doccano/doccano.jsonl\"\n",
    "path_validierung = \"/Users/jan/Documents/Promotion/BIBB GW/hdd/To_Doccano/validierung.jsonl\"\n",
    "for year in years:\n",
    "    with open(f\"{path}Pflege_{year}.json\", 'r') as file:\n",
    "        output = json.load(file)\n",
    "    sorted_indices = sorted(output[\"date\"], key=lambda i: output[\"date\"][i])\n",
    "    filtered_indices = [i for i in sorted_indices if output[\"via_intermediary\"][i] == False]\n",
    "    df_full = pd.DataFrame({\n",
    "        \"text\": [output[\"full_text\"][i] for i in filtered_indices],\n",
    "    })\n",
    "    new_data = df_full.to_dict(orient='records')\n",
    "    selected_data = random.sample(new_data, min(150, len(new_data)))\n",
    "    remaining_data = [entry for entry in new_data if entry not in selected_data]\n",
    "    with open(path_doccano, 'a') as file:\n",
    "        for record in selected_data:\n",
    "            json_output = {\n",
    "                \"text\": record[\"text\"],\n",
    "                \"label\": \"\"\n",
    "            }\n",
    "            file.write(json.dumps(json_output) + '\\n')\n",
    "    selected_validierung = random.sample(remaining_data, min(1500, len(new_data)))\n",
    "    with open(path_validierung, 'a') as file:\n",
    "        for record in selected_validierung:\n",
    "            json_output = {\n",
    "                \"text\": record[\"text\"],\n",
    "                \"label\": \"\"\n",
    "            }\n",
    "            file.write(json.dumps(json_output) + '\\n')\n",
    "    del df_full\n",
    "    del new_data\n",
    "    del selected_data\n",
    "    del selected_validierung\n",
    "    del sorted_indices\n",
    "    del filtered_indices"
   ]
  },
  {
   "cell_type": "code",
   "execution_count": null,
   "id": "4b86322f-3280-440b-80b7-f778f4447c0b",
   "metadata": {},
   "outputs": [],
   "source": []
  }
 ],
 "metadata": {
  "kernelspec": {
   "display_name": "Python 3 (ipykernel)",
   "language": "python",
   "name": "python3"
  },
  "language_info": {
   "codemirror_mode": {
    "name": "ipython",
    "version": 3
   },
   "file_extension": ".py",
   "mimetype": "text/x-python",
   "name": "python",
   "nbconvert_exporter": "python",
   "pygments_lexer": "ipython3",
   "version": "3.12.2"
  }
 },
 "nbformat": 4,
 "nbformat_minor": 5
}
