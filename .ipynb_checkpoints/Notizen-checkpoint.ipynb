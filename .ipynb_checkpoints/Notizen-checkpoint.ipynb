{
 "cells": [
  {
   "cell_type": "code",
   "execution_count": 12,
   "id": "20d09a1c-cfbf-4e0a-b44d-bda0878c0f5b",
   "metadata": {
    "editable": true,
    "slideshow": {
     "slide_type": ""
    },
    "tags": []
   },
   "outputs": [
    {
     "data": {
      "text/plain": [
       "'Notiz:\\n\\npd contains\\n\\nberufsbezeichnungen nicht löschen nach zählen --> \\ngucken, wie oft unterschiedliche berufsbezeichnungen zusammen vorkommen\\n\\n'"
      ]
     },
     "execution_count": 12,
     "metadata": {},
     "output_type": "execute_result"
    }
   ],
   "source": [
    "\"\"\"Notiz:\n",
    "\n",
    "pd contains\n",
    "\n",
    "berufsbezeichnungen nicht löschen nach zählen --> \n",
    "gucken, wie oft unterschiedliche berufsbezeichnungen zusammen vorkommen\n",
    "\n",
    "gensim-->topics identifizieren --> typen bilden --> ideal-stellenanzeige für jeden typ entwerfen --> vignettenbefragung\n",
    "oder: typen für wir bieten/wir suchen/wir sind bilden (topics pro ding suchen) --> \n",
    "daraus ideal-absätze wir sind/wir suchen/wir bieten basteln --> alle kombinationen als vignetten \n",
    "\"\"\""
   ]
  },
  {
   "cell_type": "code",
   "execution_count": null,
   "id": "53b1ce47-1759-4607-b262-c18be345b028",
   "metadata": {
    "editable": true,
    "slideshow": {
     "slide_type": ""
    },
    "tags": []
   },
   "outputs": [],
   "source": []
  }
 ],
 "metadata": {
  "kernelspec": {
   "display_name": "Python 3 (ipykernel)",
   "language": "python",
   "name": "python3"
  },
  "language_info": {
   "codemirror_mode": {
    "name": "ipython",
    "version": 3
   },
   "file_extension": ".py",
   "mimetype": "text/x-python",
   "name": "python",
   "nbconvert_exporter": "python",
   "pygments_lexer": "ipython3",
   "version": "3.12.2"
  }
 },
 "nbformat": 4,
 "nbformat_minor": 5
}
