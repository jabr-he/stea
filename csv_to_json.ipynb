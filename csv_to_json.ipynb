{
 "cells": [
  {
   "cell_type": "code",
   "execution_count": null,
   "id": "211146f7-32d6-4511-88ae-d67bbc071861",
   "metadata": {},
   "outputs": [],
   "source": [
    "import pandas as pd\n",
    "import csv\n",
    "import json\n",
    "columns = ['date', 'job_title', 'via_intermediary']\n",
    "def csv_to_json(csv_path, json_path):\n",
    "    df = pd.read_csv(csv_path, names=columns, sep=';')\n",
    "    json_data = df.to_json(orient='records', lines=False)\n",
    "    with open(json_path, 'w') as json_file:\n",
    "        json_file.write(json_data)\n",
    "csv_to_json('paa_2020.csv', 'paa_2020.json')\n",
    "print('2020 fertig')\n",
    "csv_to_json('paa_2021.csv', 'paa_2021.json')\n",
    "print('2021 fertig')\n",
    "csv_to_json('paa_2022.csv', 'paa_2022.json')\n",
    "print('2022 fertig')\n",
    "csv_to_json('paa_2023.csv', 'paa_2023.json')\n",
    "print('2023 fertig')"
   ]
  }
 ],
 "metadata": {
  "kernelspec": {
   "display_name": "Python 3 (ipykernel)",
   "language": "python",
   "name": "python3"
  },
  "language_info": {
   "codemirror_mode": {
    "name": "ipython",
    "version": 3
   },
   "file_extension": ".py",
   "mimetype": "text/x-python",
   "name": "python",
   "nbconvert_exporter": "python",
   "pygments_lexer": "ipython3",
   "version": "3.12.2"
  }
 },
 "nbformat": 4,
 "nbformat_minor": 5
}
