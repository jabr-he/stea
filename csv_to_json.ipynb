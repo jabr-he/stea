{
 "cells": [
  {
   "cell_type": "code",
   "execution_count": 2,
   "id": "d3d818af",
   "metadata": {},
   "outputs": [
    {
     "name": "stdout",
     "output_type": "stream",
     "text": [
      "2019 fertig\n"
     ]
    },
    {
     "data": {
      "text/plain": [
       "\"csv_to_json('/Users/jan/Documents/Promotion/BIBB GW/AddOn_PAA/paa/paa_2020.csv', '/Users/jan/Documents/Promotion/BIBB GW/AddOn_PAA/paa/paa_2020.json')\\nprint('2020 fertig')\\ncsv_to_json('/Users/jan/Documents/Promotion/BIBB GW/AddOn_PAA/paa/paa_2021.csv', '/Users/jan/Documents/Promotion/BIBB GW/AddOn_PAA/paa/paa_2021.json')\\nprint('2021 fertig')\\ncsv_to_json('/Users/jan/Documents/Promotion/BIBB GW/AddOn_PAA/paa/paa_2022.csv', '/Users/jan/Documents/Promotion/BIBB GW/AddOn_PAA/paa/paa_2022.json')\\nprint('2022 fertig')\\ncsv_to_json('/Users/jan/Documents/Promotion/BIBB GW/AddOn_PAA/paa/paa_2023.csv', '/Users/jan/Documents/Promotion/BIBB GW/AddOn_PAA/paa/paa_2023.json')\\nprint('2023 fertig')\""
      ]
     },
     "execution_count": 2,
     "metadata": {},
     "output_type": "execute_result"
    }
   ],
   "source": [
    "import pandas as pd\n",
    "import csv\n",
    "import json\n",
    "columns = ['date', 'job_title', 'via_intermediary']\n",
    "def csv_to_json(csv_path, json_path):\n",
    "    df = pd.read_csv(csv_path, names=columns, sep=';')\n",
    "    json_data = df.to_json(orient='records', lines=False)\n",
    "    with open(json_path, 'w') as json_file:\n",
    "        json_file.write(json_data)\n",
    "path = '/Users/jan/Documents/Promotion/BIBB GW/AddOn_PAA/paa/'\n",
    "csv_to_json('/Users/jan/Documents/Promotion/BIBB GW/AddOn_PAA/paa/paa_2019.csv', '/Users/jan/Documents/Promotion/BIBB GW/AddOn_PAA/paa/paa_2020.json')\n",
    "print('2019 fertig')\n",
    "'''csv_to_json('/Users/jan/Documents/Promotion/BIBB GW/AddOn_PAA/paa/paa_2020.csv', '/Users/jan/Documents/Promotion/BIBB GW/AddOn_PAA/paa/paa_2020.json')\n",
    "print('2020 fertig')\n",
    "csv_to_json('/Users/jan/Documents/Promotion/BIBB GW/AddOn_PAA/paa/paa_2021.csv', '/Users/jan/Documents/Promotion/BIBB GW/AddOn_PAA/paa/paa_2021.json')\n",
    "print('2021 fertig')\n",
    "csv_to_json('/Users/jan/Documents/Promotion/BIBB GW/AddOn_PAA/paa/paa_2022.csv', '/Users/jan/Documents/Promotion/BIBB GW/AddOn_PAA/paa/paa_2022.json')\n",
    "print('2022 fertig')\n",
    "csv_to_json('/Users/jan/Documents/Promotion/BIBB GW/AddOn_PAA/paa/paa_2023.csv', '/Users/jan/Documents/Promotion/BIBB GW/AddOn_PAA/paa/paa_2023.json')\n",
    "print('2023 fertig')'''"
   ]
  },
  {
   "cell_type": "code",
   "execution_count": null,
   "id": "2a13e68d",
   "metadata": {},
   "outputs": [],
   "source": []
  }
 ],
 "metadata": {
  "kernelspec": {
   "display_name": "Python 3 (ipykernel)",
   "language": "python",
   "name": "python3"
  },
  "language_info": {
   "codemirror_mode": {
    "name": "ipython",
    "version": 3
   },
   "file_extension": ".py",
   "mimetype": "text/x-python",
   "name": "python",
   "nbconvert_exporter": "python",
   "pygments_lexer": "ipython3",
   "version": "3.12.2"
  }
 },
 "nbformat": 4,
 "nbformat_minor": 5
}
