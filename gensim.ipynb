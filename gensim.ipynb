{
 "cells": [
  {
   "cell_type": "code",
   "execution_count": 28,
   "id": "b9fe1d07-eaaa-4b03-839c-26436ff3280c",
   "metadata": {},
   "outputs": [],
   "source": [
    "import json\n",
    "import re\n",
    "import numpy as np\n",
    "import pandas as pd\n",
    "from pprint import pprint\n",
    "import gensim\n",
    "import gensim.corpora as corpora\n",
    "from gensim.utils import simple_preprocess\n",
    "from gensim.models import CoherenceModel\n",
    "import spacy\n",
    "import pyLDAvis\n",
    "import pyLDAvis.gensim_models\n",
    "import matplotlib.pyplot as plt\n",
    "%matplotlib inline\n",
    "import re\n",
    "from nltk.corpus import stopwords\n",
    "from nltk.tokenize import RegexpTokenizer"
   ]
  },
  {
   "cell_type": "code",
   "execution_count": 19,
   "id": "c35f572d-c7d1-4f0d-bbff-bc791883934b",
   "metadata": {},
   "outputs": [],
   "source": [
    "stop_words = stopwords.words('german')"
   ]
  },
  {
   "cell_type": "code",
   "execution_count": 21,
   "id": "7ebc5d24-0395-45a8-a732-1c00da9fe030",
   "metadata": {},
   "outputs": [],
   "source": [
    "years = ['2016', '2017', '2018', '2019', '2020', '2021', '2022', '2023'] # Hier die Jahre angeben, die geladen werden sollen (final: 2016-2023)\n",
    "path = \"/Users/jan/Documents/Promotion/BIBB GW/hdd/Pflege/\"#Hier der Pfad zu den JSON-Dateien!\n",
    "with open(f\"{path}Pflege_2016.json\", 'r') as file: # 2016 ersetzen: durch years iterieren - zu viele Daten, wenn alle Jahre geladen werden?\n",
    "    output = json.load(file)\n",
    "readpro = [[value] for value in output[\"full_text\"].values()]\n",
    "del output"
   ]
  },
  {
   "cell_type": "code",
   "execution_count": 23,
   "id": "68dc59e4-a647-4073-a827-1e94bb443d95",
   "metadata": {},
   "outputs": [
    {
     "name": "stdout",
     "output_type": "stream",
     "text": [
      "['altenpflegeraltenpflegerin_arbeitsort_d', 'berlin_berlin', 'firmenname_perzukunft', 'arbeitsvermittlung_gmbh_co', 'kg', 'alter', 'der', 'anzeige_tage_alt', 'stellenbeschreibung_stellenbezeichnung', 'altenpflegeraltenpflegerin_jobbeschreibung', 'wir', 'suchen', 'engagierte', 'altenpfleger_mw', 'fr', 'ein', 'berliner_seniorenheim', 'bewerben', 'sie', 'sich', 'noch_heute', 'auf', 'eine', 'unbefristete_vollzeitstelle', 'was', 'sie', 'erwarten', 'wird', 'fachgerechte', 'betreuung', 'der', 'senioren', 'grundpflege', 'behandlungspflege', 'medikamente', 'und', 'spritzen', 'verabreichen', 'anleiten', 'der', 'pflegehilfskrfte', 'ttigkeiten', 'abgeschlossene_ausbildung', 'zum', 'altenpfleger_mw', 'fundierte_kenntnisse', 'in', 'der', 'pharmakologie', 'einfhlungsvermgen', 'wir', 'freuen', 'uns', 'auf', 'sie', 'bewerben', 'sie', 'sich', 'am_besten', 'noch_heute', 'telefonisch', 'unter_bitte_beachten', 'sie', 'dass', 'die', 'bewerbungsunterlagen', 'nur_zurck_gesandt', 'werden', 'wenn', 'ein', 'entsprechend_ausreichend_frankierter_rckumschlag', 'beigefgt_wird_des', 'weiteren_beachten', 'sie', 'bitte', 'dass_im_falle', 'eines_vorstellungsgesprches', 'fahrtkosten_nicht_bernommen', 'werden', 'bitte_beachten', 'sie', 'die', 'folgenden_anforderungen_kompetenzen', 'erwachsene', 'betreuung_etc', 'grundkenntnisse', 'freizeitgestaltung', 'grundkenntnisse', 'soziale_kompetenzen', 'flexibilitaet_unsere_kontaktadresse_lautet', 'perzukunft_arbeitsvermittlung_gmbh_co', 'kg_frau_michelle', 'janke_allee_der', 'kosmonauten_g_berlin', 'telefonnummer_faxnummer', 'email_jankeperzukunftde', 'arbeitsort', 'berlin', 'de_art', 'der', 'anstellung_arbeitsplatz_arbeitszeitmodell', 'vollzeit', 'kontakt', 'frau', 'allee', 'der', 'kosmonauten_g_berlin', 'tel_fax', 'emailadresse', 'jankeperzukunftde_webseite', 'httpwwwperzukunftde_gewnschte', 'form', 'der', 'bewerbung', 'telefonisch', 'schriftlich', 'per_email', 'persnlich', 'ber', 'internet_geforderte_anlagen', 'lebenslauf_bewerbungsanschreiben_zeugnisse_inhalte', 'bundesagentur', 'fr_arbeit_darstellung', 'netzmarkt_internetservice', 'gmbh_co', 'kg_arbeitsort', 'ort', 'berlin', 'plz_d_bundesland', 'berlin', 'land_deutschland']\n"
     ]
    }
   ],
   "source": [
    "def tokenize(text):\n",
    "    # Remove punctuation and non-alphabetic characters\n",
    "    text = re.sub(r'[^a-zA-Z\\s]', '', text)\n",
    "    # Convert to lowercase\n",
    "    text = text.lower()\n",
    "    # Split into words\n",
    "    tokens = text.split()\n",
    "    return tokens\n",
    "prepro = []\n",
    "for value in readpro:\n",
    "    add = tokenize(value[0])\n",
    "    prepro.append(add)\n",
    "# Build the bigram and trigram models\n",
    "bigram = gensim.models.Phrases(prepro, min_count=2, threshold=5) # higher threshold fewer phrases.\n",
    "trigram = gensim.models.Phrases(bigram[prepro], threshold=100)  \n",
    "\n",
    "# Faster way to get a sentence clubbed as a trigram/bigram\n",
    "bigram_mod = gensim.models.phrases.Phraser(bigram)\n",
    "trigram_mod = gensim.models.phrases.Phraser(trigram)\n",
    "# See trigram example\n",
    "print(trigram_mod[bigram_mod[prepro[0]]])"
   ]
  },
  {
   "cell_type": "code",
   "execution_count": 24,
   "id": "341aaddc-8af2-405a-90e3-aaa2577486f2",
   "metadata": {},
   "outputs": [],
   "source": [
    "# Define functions for stopwords, bigrams, trigrams and lemmatization\n",
    "def remove_stopwords(texts):\n",
    "    return [[word for word in simple_preprocess(str(doc)) if word not in stop_words] for doc in texts]\n",
    "\n",
    "def make_bigrams(texts):\n",
    "    return [bigram_mod[doc] for doc in texts]\n",
    "\n",
    "def make_trigrams(texts):\n",
    "    return [trigram_mod[bigram_mod[doc]] for doc in texts]\n",
    "\n",
    "def lemmatization(texts, allowed_postags=['NOUN', 'ADJ', 'VERB', 'ADV']):\n",
    "    \"\"\"https://spacy.io/api/annotation\"\"\"\n",
    "    texts_out = []\n",
    "    for sent in texts:\n",
    "        doc = nlp(\" \".join(sent)) \n",
    "        texts_out.append([token.lemma_ for token in doc if token.pos_ in allowed_postags])\n",
    "    return texts_out"
   ]
  },
  {
   "cell_type": "code",
   "execution_count": 25,
   "id": "3883cd3b-8691-4302-ae15-d253ee9cb854",
   "metadata": {},
   "outputs": [
    {
     "name": "stdout",
     "output_type": "stream",
     "text": [
      "[['Arbeitsort', 'firmenname_perzukunft', 'alt', 'anzeige_tage', 'alt', 'Jobbeschreibung', 'suchen', 'engagieren', 'altenpfleger_mw', 'bewerben', 'heute', 'unbefristete_vollzeitstell', 'erwarten', 'fachgerecht', 'Betreuung', 'senioren', 'Grundpflege', 'medikament', 'Spritze', 'anleit', 'ttigkeit', 'Abgeschlossene_ausbildung', 'altenpfleger_mw', 'fundierte_kenntnisse', 'Pharmakologie', 'freuen', 'bewerben', 'heute', 'telefonisch', 'zurck_gesandt', 'entsprechend_ausreichend', 'Frankierter_rckumschlag', 'Beigefgt', 'bitte', 'fall', 'fahrtkosten', 'Bernomm', 'bitte_beachten', 'Folgenden_anforderunge', 'kompetenzen', 'erwachsen', 'grundkenntnisse_grundkenntnisse', 'soziale_kompetenzen', 'flexibilitaet', 'kontaktadresse_lautet', 'Perzukunft', 'frau_michell', 'kosmonaut', 'Telefonnummer_faxnummer', 'Arbeitsort', 'Anstellung', 'Arbeitsplatz', 'Vollzeit', 'Kontakt', 'Frau', 'kosmonaut', 'emailadresse', 'webseit', 'gewnscht', 'Form', 'telefonisch', 'schriftlich', 'persnlich', 'Internet', 'geforderte_anlag', 'inhalte_bundesagentur', 'Arbeit_darstellung', 'kg_arbeitsort', 'Ort', 'Bundesland']]\n"
     ]
    }
   ],
   "source": [
    "# Remove Stop Words\n",
    "data_words_nostops = remove_stopwords(prepro)\n",
    "\n",
    "# Form Bigrams\n",
    "data_words_bigrams = make_bigrams(data_words_nostops)\n",
    "\n",
    "# Initialize spacy model, keeping only tagger component (for efficiency)\n",
    "nlp = spacy.load('de_core_news_sm', disable=['parser', 'ner'])\n",
    "\n",
    "# Do lemmatization keeping only noun, adj, vb, adv\n",
    "data_lemmatized = lemmatization(data_words_bigrams, allowed_postags=['NOUN', 'ADJ', 'VERB', 'ADV'])\n",
    "\n",
    "print(data_lemmatized[:1])"
   ]
  },
  {
   "cell_type": "code",
   "execution_count": 26,
   "id": "966223fb-535f-4a35-98d7-a70167e7adfe",
   "metadata": {},
   "outputs": [
    {
     "name": "stdout",
     "output_type": "stream",
     "text": [
      "[[(0, 1), (1, 1), (2, 1), (3, 2), (4, 1), (5, 1), (6, 1), (7, 1), (8, 1), (9, 1), (10, 1), (11, 1), (12, 1), (13, 1), (14, 1), (15, 1), (16, 1), (17, 1), (18, 1), (19, 1), (20, 1), (21, 1), (22, 1), (23, 2), (24, 2), (25, 1), (26, 1), (27, 2), (28, 1), (29, 1), (30, 1), (31, 1), (32, 1), (33, 1), (34, 1), (35, 1), (36, 1), (37, 1), (38, 1), (39, 1), (40, 1), (41, 1), (42, 1), (43, 1), (44, 1), (45, 1), (46, 2), (47, 1), (48, 1), (49, 1), (50, 1), (51, 2), (52, 1), (53, 1), (54, 1), (55, 1), (56, 1), (57, 1), (58, 2), (59, 1), (60, 1), (61, 1), (62, 1)]]\n"
     ]
    }
   ],
   "source": [
    "# Create Dictionary\n",
    "id2word = corpora.Dictionary(data_lemmatized)\n",
    "\n",
    "# Create Corpus\n",
    "texts = data_lemmatized\n",
    "\n",
    "# Term Document Frequency\n",
    "corpus = [id2word.doc2bow(text) for text in texts]\n",
    "\n",
    "# View\n",
    "print(corpus[:1])"
   ]
  },
  {
   "cell_type": "code",
   "execution_count": 27,
   "id": "5203d8b6-d5d8-4e61-b2ce-68a3f343abb7",
   "metadata": {
    "scrolled": true
   },
   "outputs": [
    {
     "name": "stdout",
     "output_type": "stream",
     "text": [
      "[(0,\n",
      "  '0.020*\"Stellenangebot\" + 0.017*\"Arbeitgeber\" + 0.016*\"finden\" + '\n",
      "  '0.013*\"Altenpflegerin\" + 0.010*\"Besetzung\" + 0.010*\"suchen\" + '\n",
      "  '0.009*\"Vergtung\" + 0.009*\"Arbeitsplatz\" + 0.009*\"kondition\" + '\n",
      "  '0.009*\"Beginn\"'),\n",
      " (1,\n",
      "  '0.012*\"gesundheits\" + 0.012*\"suchen\" + 0.009*\"mw\" + 0.009*\"krankenpfleg\" + '\n",
      "  '0.008*\"bieten\" + 0.007*\"Altenpflegerin\" + 0.007*\"bewerben\" + 0.007*\"Pflege\" '\n",
      "  '+ 0.007*\"Gmbh\" + 0.007*\"Aufgabe\"'),\n",
      " (2,\n",
      "  '0.013*\"Arbeitgeber\" + 0.013*\"Angebot\" + 0.012*\"erhalten\" + '\n",
      "  '0.009*\"Altenpflegerin\" + 0.009*\"Stellenangebot\" + 0.009*\"suchen\" + '\n",
      "  '0.008*\"gesundheits\" + 0.007*\"zwingend\" + 0.007*\"Kosten\" + '\n",
      "  '0.007*\"Adresszeil\"')]\n",
      "\n",
      "Perplexity:  -8.049590918832406\n",
      "\n",
      "Coherence Score:  -0.9100124914754236\n"
     ]
    }
   ],
   "source": [
    "lda_model = gensim.models.ldamodel.LdaModel(corpus=corpus,\n",
    "                                           id2word=id2word,\n",
    "                                           num_topics=3, \n",
    "                                           random_state=100,\n",
    "                                           update_every=1,\n",
    "                                           chunksize=100,\n",
    "                                           passes=10,\n",
    "                                           alpha='auto',\n",
    "                                           per_word_topics=True)\n",
    "# Print the Keyword in the 10 topics\n",
    "pprint(lda_model.print_topics())\n",
    "doc_lda = lda_model[corpus]\n",
    "# Compute Perplexity\n",
    "print('\\nPerplexity: ', lda_model.log_perplexity(corpus))  # a measure of how good the model is. lower the better.\n",
    "\n",
    "# Compute Coherence Score\n",
    "coherence_model_lda = CoherenceModel(model=lda_model, texts=data_lemmatized, dictionary=id2word, coherence='u_mass')\n",
    "coherence_lda = coherence_model_lda.get_coherence()\n",
    "print('\\nCoherence Score: ', coherence_lda)"
   ]
  },
  {
   "cell_type": "code",
   "execution_count": 16,
   "id": "777e6164-4519-45e1-8886-021b5d45832b",
   "metadata": {},
   "outputs": [
    {
     "data": {
      "image/png": "[encoded data removed]",
      "text/plain": [
       "<Figure size 640x480 with 1 Axes>"
      ]
     },
     "metadata": {},
     "output_type": "display_data"
    },
    {
     "name": "stdout",
     "output_type": "stream",
     "text": [
      "Optimal number of topics: 2\n"
     ]
    }
   ],
   "source": [
    "coherence_scores = []\n",
    "topic_range = range(1, 10)  # test for topic numbers from 2 to 20\n",
    "\n",
    "for num_topics in topic_range:\n",
    "    lda_model = gensim.models.ldamodel.LdaModel(corpus=corpus,\n",
    "                                               id2word=id2word,\n",
    "                                               num_topics=num_topics, \n",
    "                                               random_state=100,\n",
    "                                               update_every=1,\n",
    "                                               chunksize=100,\n",
    "                                               passes=10,\n",
    "                                               alpha='auto',\n",
    "                                               per_word_topics=True)\n",
    "    \n",
    "    coherence_model_lda = CoherenceModel(model=lda_model, texts=data_lemmatized, dictionary=id2word, coherence='u_mass')\n",
    "    coherence_lda = coherence_model_lda.get_coherence()\n",
    "    coherence_scores.append(coherence_lda)\n",
    "\n",
    "# Step 4: Plot the coherence scores\n",
    "plt.plot(topic_range, coherence_scores)\n",
    "plt.xlabel('Number of Topics')\n",
    "plt.ylabel('Coherence Score')\n",
    "plt.title('Coherence Score for Different Numbers of Topics')\n",
    "plt.show()\n",
    "\n",
    "# Step 5: Find the optimal number of topics\n",
    "optimal_topics = topic_range[coherence_scores.index(max(coherence_scores))]\n",
    "print(f\"Optimal number of topics: {optimal_topics}\")"
   ]
  },
  {
   "cell_type": "code",
   "execution_count": null,
   "id": "6aa93efc-1759-40e9-bf01-aacd91bfd63e",
   "metadata": {},
   "outputs": [],
   "source": []
  }
 ],
 "metadata": {
  "kernelspec": {
   "display_name": "Python 3 (ipykernel)",
   "language": "python",
   "name": "python3"
  },
  "language_info": {
   "codemirror_mode": {
    "name": "ipython",
    "version": 3
   },
   "file_extension": ".py",
   "mimetype": "text/x-python",
   "name": "python",
   "nbconvert_exporter": "python",
   "pygments_lexer": "ipython3",
   "version": "3.12.2"
  }
 },
 "nbformat": 4,
 "nbformat_minor": 5
}
